{
 "cells": [
  {
   "cell_type": "code",
   "execution_count": 6,
   "id": "2c09ad63",
   "metadata": {},
   "outputs": [
    {
     "data": {
      "text/plain": [
       "'\\n# AliExpress 반려동물 용품 데이터 분석 (노트북 버전)\\n\\n**분석 목표:**\\n1.  로그 스케일을 활용하여 유의미한 판매량 차이를 시각화하고 비즈니스 인사이트를 도출한다.\\n2.  \"평점\" 데이터의 신뢰도와 영향력에 대한 가설을 검증한다.\\n'"
      ]
     },
     "execution_count": 6,
     "metadata": {},
     "output_type": "execute_result"
    }
   ],
   "source": [
    "# C:\\githome\\12week_Docker_startspark\\spark_miniproject\\pet_supplies_analysis_v3.py\n",
    "# -*- coding: utf-8 -*-\n",
    "\"\"\"\n",
    "# AliExpress 반려동물 용품 데이터 분석 (노트북 버전)\n",
    "\n",
    "**분석 목표:**\n",
    "1.  로그 스케일을 활용하여 유의미한 판매량 차이를 시각화하고 비즈니스 인사이트를 도출한다.\n",
    "2.  \"평점\" 데이터의 신뢰도와 영향력에 대한 가설을 검증한다.\n",
    "\"\"\""
   ]
  },
  {
   "cell_type": "code",
   "execution_count": 7,
   "id": "e2b03121",
   "metadata": {},
   "outputs": [],
   "source": [
    "# ## 1. 환경 설정 및 SparkSession 생성\n",
    "# 이 셀은 분석에 필요한 모든 도구를 불러옵니다.\n",
    "import re\n",
    "from pyspark.sql import SparkSession\n",
    "from pyspark.sql.functions import col, udf, when\n",
    "from pyspark.sql.types import IntegerType\n",
    "import pandas as pd\n",
    "import matplotlib.pyplot as plt\n",
    "import seaborn as sns\n",
    "import matplotlib.font_manager as fm"
   ]
  },
  {
   "cell_type": "code",
   "execution_count": 8,
   "id": "525ca5e1",
   "metadata": {},
   "outputs": [],
   "source": [
    "# --- 폰트 설정 ---\n",
    "# Docker 컨테이너에 설치된 나눔고딕 폰트를 사용하도록 설정합니다.\n",
    "# 이 코드는 폰트가 있을 때만 적용되므로, 오류 없이 안전하게 실행됩니다.\n",
    "try:\n",
    "    if any(\"NanumGothic\" in f.name for f in fm.fontManager.ttflist):\n",
    "        plt.rcParams['font.family'] = 'NanumGothic'\n",
    "    else:\n",
    "        print(\"나눔고딕 폰트를 찾을 수 없습니다. 기본 폰트로 실행됩니다.\")\n",
    "except Exception:\n",
    "    print(\"폰트 설정 중 오류가 발생했습니다.\")\n",
    "plt.rcParams['axes.unicode_minus'] = False\n",
    "# --- 폰트 설정 끝 ---"
   ]
  },
  {
   "cell_type": "code",
   "execution_count": 9,
   "id": "4c36e3a1",
   "metadata": {
    "lines_to_next_cell": 2
   },
   "outputs": [
    {
     "name": "stderr",
     "output_type": "stream",
     "text": [
      "WARNING: Using incubator modules: jdk.incubator.vector\n",
      "Using Spark's default log4j profile: org/apache/spark/log4j2-defaults.properties\n",
      "Setting default log level to \"WARN\".\n",
      "To adjust logging level use sc.setLogLevel(newLevel). For SparkR, use setLogLevel(newLevel).\n",
      "25/08/07 07:21:42 WARN NativeCodeLoader: Unable to load native-hadoop library for your platform... using builtin-java classes where applicable\n"
     ]
    },
    {
     "name": "stdout",
     "output_type": "stream",
     "text": [
      "Spark Session이 성공적으로 생성되었습니다.\n"
     ]
    }
   ],
   "source": [
    "# SparkSession을 생성합니다. 모든 Spark 애플리케이션의 시작점입니다.\n",
    "spark = SparkSession.builder.appName(\"PetSuppliesAnalysisNotebook\").getOrCreate()\n",
    "print(\"Spark Session이 성공적으로 생성되었습니다.\")"
   ]
  },
  {
   "cell_type": "code",
   "execution_count": 13,
   "id": "6e6f19ba-03d9-4e17-aeb0-d945b64679dd",
   "metadata": {},
   "outputs": [
    {
     "name": "stdout",
     "output_type": "stream",
     "text": [
      "✅ Spark Session이 성공적으로 생성되었습니다.\n"
     ]
    },
    {
     "name": "stderr",
     "output_type": "stream",
     "text": [
      "25/08/07 07:23:31 WARN SparkSession: Using an existing Spark session; only runtime SQL configurations will take effect.\n"
     ]
    }
   ],
   "source": [
    "# C:/githome/12week_Docker_startspark/spark_miniproject/pet_supplies_analysis_v3.ipynb\n",
    "# ## 1. 환경 설정 및 SparkSession 생성\n",
    "import re\n",
    "from pyspark.sql import SparkSession\n",
    "from pyspark.sql.functions import col, udf, when\n",
    "from pyspark.sql.types import IntegerType\n",
    "import pandas as pd\n",
    "import matplotlib.pyplot as plt\n",
    "import seaborn as sns\n",
    "import matplotlib.font_manager as fm\n",
    "\n",
    "# --- 폰트 설정 ---\n",
    "try:\n",
    "    if any(\"NanumGothic\" in f.name for f in fm.fontManager.ttflist):\n",
    "        plt.rcParams['font.family'] = 'NanumGothic'\n",
    "except Exception:\n",
    "    pass\n",
    "plt.rcParams['axes.unicode_minus'] = False\n",
    "# --- 폰트 설정 끝 ---\n",
    "\n",
    "spark = SparkSession.builder.appName(\"PetSuppliesInteractiveAnalysis\").getOrCreate()\n",
    "print(\"✅ Spark Session이 성공적으로 생성되었습니다.\")"
   ]
  },
  {
   "cell_type": "code",
   "execution_count": 15,
   "id": "95199e73",
   "metadata": {},
   "outputs": [
    {
     "name": "stdout",
     "output_type": "stream",
     "text": [
      "+--------------------+-----------+--------+-----------+-----------+\n",
      "|               title|averageStar|quantity|tradeAmount|wishedCount|\n",
      "+--------------------+-----------+--------+-----------+-----------+\n",
      "|Mesh Litter Spatu...|        0.0|    9993|     5 sold|          0|\n",
      "|Rechargeable Mini...|        5.0|    1986|    28 sold|         64|\n",
      "|Dog Cooling Bed M...|        4.5|     529|    20 sold|         38|\n",
      "+--------------------+-----------+--------+-----------+-----------+\n",
      "only showing top 3 rows\n"
     ]
    }
   ],
   "source": [
    "# ## 2. 원본 데이터 로드 및 확인\n",
    "file_path = 'data/aliexpress_pet_supplies.csv'\n",
    "df = spark.read.csv(file_path, header=True, inferSchema=False, multiLine=True, escape=\"\\\"\")\n",
    "df.show(3)"
   ]
  },
  {
   "cell_type": "code",
   "execution_count": null,
   "id": "fa265e07-69e9-4940-8105-9dfe63c6cd03",
   "metadata": {},
   "outputs": [
    {
     "name": "stdout",
     "output_type": "stream",
     "text": [
      "✅ 데이터 정제 완료. final_df가 준비되었습니다.\n"
     ]
    }
   ],
   "source": [
    "# ## 3. 데이터 정제 및 전처리\n",
    "def clean_trade_amount(amount_str):\n",
    "    if amount_str is None: return 0\n",
    "    try:\n",
    "        cleaned_str = amount_str.replace(',', '')\n",
    "        numbers = re.findall(r'\\d+', cleaned_str)\n",
    "        return int(numbers[0]) if numbers else 0\n",
    "    except (ValueError, TypeError): return 0\n",
    "\n",
    "clean_trade_amount_udf = udf(clean_trade_amount, IntegerType())\n",
    "\n",
    "cleaned_df = df.withColumn(\"sales\", clean_trade_amount_udf(col(\"tradeAmount\")))\\\n",
    "               .withColumn(\"averageStar\", col(\"averageStar\").cast('float'))\\\n",
    "               .withColumn(\"wishedCount\", col(\"wishedCount\").cast('int'))\n",
    "\n",
    "# 여기서 final_df가 생성됩니다!\n",
    "final_df = cleaned_df.select(\"title\", \"averageStar\", \"sales\", \"wishedCount\")\n",
    "\n",
    "print(\"✅ 데이터 정제 완료. final_df가 준비되었습니다.\")\n",
    "final_df.show(3)"
   ]
  },
  {
   "cell_type": "code",
   "execution_count": 12,
   "id": "38fd7823-e778-4d6d-834e-f42e6fd7d616",
   "metadata": {},
   "outputs": [
    {
     "ename": "NameError",
     "evalue": "name 'final_df' is not defined",
     "output_type": "error",
     "traceback": [
      "\u001b[31m---------------------------------------------------------------------------\u001b[39m",
      "\u001b[31mNameError\u001b[39m                                 Traceback (most recent call last)",
      "\u001b[36mCell\u001b[39m\u001b[36m \u001b[39m\u001b[32mIn[12]\u001b[39m\u001b[32m, line 8\u001b[39m\n\u001b[32m      5\u001b[39m \u001b[38;5;28;01mimport\u001b[39;00m\u001b[38;5;250m \u001b[39m\u001b[34;01mseaborn\u001b[39;00m\u001b[38;5;250m \u001b[39m\u001b[38;5;28;01mas\u001b[39;00m\u001b[38;5;250m \u001b[39m\u001b[34;01msns\u001b[39;00m\n\u001b[32m      7\u001b[39m \u001b[38;5;66;03m# 1. '찜하기 수(wishedCount)'가 높은 순서대로 진짜 인기 상품 Top 10을 추출합니다.\u001b[39;00m\n\u001b[32m----> \u001b[39m\u001b[32m8\u001b[39m true_top_10_df = \u001b[43mfinal_df\u001b[49m.orderBy(col(\u001b[33m\"\u001b[39m\u001b[33mwishedCount\u001b[39m\u001b[33m\"\u001b[39m).desc()).limit(\u001b[32m10\u001b[39m)\n\u001b[32m     10\u001b[39m \u001b[38;5;66;03m# 2. 시각화를 위해 Pandas DataFrame으로 변환하고 순위를 매깁니다.\u001b[39;00m\n\u001b[32m     11\u001b[39m top_10_wished = true_top_10_df.toPandas()\n",
      "\u001b[31mNameError\u001b[39m: name 'final_df' is not defined"
     ]
    }
   ],
   "source": [
    "# C:/githome/12week_Docker_startspark/spark_miniproject/pet_supplies_analysis_v3.ipynb\n",
    "# ## 5. '찜하기 수' 기준 Top 10 분석 및 최종 시각화 (범례 추가)\n",
    "from pyspark.sql.functions import col\n",
    "import matplotlib.pyplot as plt\n",
    "import seaborn as sns\n",
    "\n",
    "# 1. '찜하기 수(wishedCount)'가 높은 순서대로 진짜 인기 상품 Top 10을 추출합니다.\n",
    "true_top_10_df = final_df.orderBy(col(\"wishedCount\").desc()).limit(10)\n",
    "\n",
    "# 2. 시각화를 위해 Pandas DataFrame으로 변환하고 순위를 매깁니다.\n",
    "top_10_wished = true_top_10_df.toPandas()\n",
    "# 10위부터 1위 순으로 차트를 그리기 위해 데이터 순서를 뒤집습니다.\n",
    "top_10_wished = top_10_wished.iloc[::-1].reset_index(drop=True)\n",
    "top_10_wished['rank'] = top_10_wished.index + 1\n",
    "\n",
    "print(\"--- '찜하기 수' 기준 진짜 Top 10 ---\")\n",
    "display(top_10_wished)\n",
    "\n",
    "\n",
    "# 3. 최종 차트 그리기 (선/막대 조합, 파스텔톤, 두 개의 범례)\n",
    "legend_labels = [f\"#{row['rank']}: {row['title'][:50]}...\" for index, row in top_10_wished.iterrows()]\n",
    "\n",
    "# fig와 ax1은 차트의 전체 도화지와 첫 번째 Y축(왼쪽)을 의미합니다.\n",
    "fig, ax1 = plt.subplots(figsize=(16, 10))\n",
    "plt.title('가장 많이 찜한 상품 Top 10과 그 평점', fontsize=22, pad=20, weight='bold')\n",
    "\n",
    "# '찜하기 수'를 나타내는 막대그래프 (왼쪽 Y축 사용)\n",
    "plot = sns.barplot(x='rank', y='wishedCount', data=top_10_wished, ax=ax1, palette='pastel', hue='rank', legend=False)\n",
    "ax1.set_xlabel('찜하기 순위', fontsize=16)\n",
    "ax1.set_ylabel('찜하기 수 (개)', fontsize=16, color='skyblue')\n",
    "ax1.tick_params(axis='y', labelsize=12)\n",
    "# X축 눈금을 순위에 맞춥니다.\n",
    "ax1.set_xticks(range(len(top_10_wished['rank'])))\n",
    "ax1.set_xticklabels(top_10_wished['rank'], fontsize=12)\n",
    "\n",
    "# 막대 위에 '찜하기 수' 텍스트 추가\n",
    "for p in ax1.patches:\n",
    "    ax1.annotate(f'{int(p.get_height()):,}', (p.get_x() + p.get_width() / 2., p.get_height()),\n",
    "                 ha='center', va='center', fontsize=11, color='gray', xytext=(0, 9),\n",
    "                 textcoords='offset points')\n",
    "\n",
    "# '평점'을 나타내는 선그래프를 위한 보조 Y축(오른쪽)을 만듭니다.\n",
    "ax2 = ax1.twinx()\n",
    "# --- 핵심 수정: label='평균 평점'이 범례에 표시될 내용입니다 ---\n",
    "ax2.plot(range(len(top_10_wished['rank'])), top_10_wished['averageStar'], color='salmon', marker='o', linestyle='--', linewidth=2.5, markersize=8, label='평균 평점')\n",
    "ax2.set_ylabel('평균 평점', fontsize=16, color='salmon')\n",
    "ax2.set_ylim(4, 5) # 평점 범위를 4~5점으로 설정하여 변화를 잘 보이게 합니다.\n",
    "ax2.tick_params(axis='y', labelsize=12)\n",
    "\n",
    "# --- 핵심 수정: 선 그래프에 대한 범례를 차트 안쪽 우측 상단에 추가합니다 ---\n",
    "ax2.legend(loc='upper right', fontsize=12)\n",
    "\n",
    "# 상품명에 대한 범례를 차트 바깥쪽 오른쪽에 예쁘게 표시합니다.\n",
    "product_legend = ax1.legend(handles=plot.patches, labels=legend_labels, title='상품명 (Top 10)',\n",
    "                            bbox_to_anchor=(1.1, 1), loc='upper left', borderaxespad=0., fontsize=12)\n",
    "plt.setp(product_legend.get_title(), fontsize=14, weight='bold')\n",
    "\n",
    "# 범례가 잘리지 않도록 레이아웃을 조정하고 저장합니다.\n",
    "fig.tight_layout(rect=[0, 0, 0.8, 1])\n",
    "plt.savefig(\"top_10_wished_final_with_legend.png\")\n",
    "print(\"\\n✅ 'top_10_wished_final_with_legend.png' 파일로 최종 차트를 저장했습니다.\")\n",
    "plt.show()"
   ]
  },
  {
   "cell_type": "code",
   "execution_count": null,
   "id": "173eb8b6-36b1-4d84-8a4f-9309209622ce",
   "metadata": {},
   "outputs": [],
   "source": [
    "# ## 4. '찜하기 수'로 진짜 Top 10 순위 결정 및 최종 시각화\n",
    "from pyspark.sql.functions import col\n",
    "\n",
    "# 1. 판매량(sales)으로 먼저 정렬하고, 판매량이 같으면(10000) 찜하기 수(wishedCount)로 다시 정렬합니다.\n",
    "# 이것이 진짜 인기 순위를 찾는 핵심입니다!\n",
    "true_top_10_df = final_df.orderBy(col(\"sales\").desc(), col(\"wishedCount\").desc()).limit(10)\n",
    "\n",
    "# 2. 시각화를 위해 Pandas DataFrame으로 변환합니다.\n",
    "top_10_sold = true_top_10_df.toPandas()\n",
    "top_10_sold = top_10_sold.iloc[::-1].reset_index(drop=True)\n",
    "top_10_sold['rank'] = top_10_sold.index + 1\n",
    "\n",
    "print(\"--- '찜하기 수'로 다시 정렬한 진짜 Top 10 ---\")\n",
    "# display()는 Jupyter Notebook에서 표를 예쁘게 보여주는 명령어입니다.\n",
    "display(top_10_sold)\n",
    "\n",
    "\n",
    "# 3. 최종 차트 그리기 (FutureWarning 해결 및 로그 스케일 적용)\n",
    "legend_labels = [f\"#{row['rank']}: {row['title'][:50]}...\" for index, row in top_10_sold.iterrows()]\n",
    "\n",
    "plt.figure(figsize=(14, 10))\n",
    "\n",
    "# FutureWarning 해결: y축 변수인 'rank'를 hue에 지정하고 legend=False를 추가합니다.\n",
    "plot = sns.barplot(x='sales', y='rank', data=top_10_sold, palette='magma', orient='h', hue='rank', legend=False)\n",
    "\n",
    "# X축을 로그 스케일로 변경하여 값의 차이를 명확하게 보여줍니다.\n",
    "plot.set_xscale(\"log\")\n",
    "\n",
    "plt.title('가장 많이 팔린 반려동물 용품 Top 10 (판매량: 로그 스케일)', fontsize=20, pad=20, weight='bold')\n",
    "plt.xlabel('판매량 (개) - 로그 스케일', fontsize=14)\n",
    "plt.ylabel('순위', fontsize=14)\n",
    "plt.yticks([])\n",
    "\n",
    "# 막대 위에 실제 판매량 텍스트 추가\n",
    "for index, row in top_10_sold.iterrows():\n",
    "    plot.text(row.sales, index, f' {row.sales:,}개', color='black', ha=\"left\", va=\"center\")\n",
    "\n",
    "legend = plt.legend(handles=plot.patches, labels=legend_labels, title='상품명 (Top 10)',\n",
    "                    bbox_to_anchor=(1.02, 1), loc='upper left', borderaxespad=0., fontsize=11)\n",
    "plt.setp(legend.get_title(), fontsize=13, weight='bold')\n",
    "\n",
    "plt.tight_layout(rect=[0, 0, 0.75, 1])\n",
    "plt.savefig(\"top_10_sold_final.png\")\n",
    "print(\"\\n✅ 'top_10_sold_final.png' 파일로 최종 차트를 저장했습니다.\")\n",
    "plt.show()"
   ]
  },
  {
   "cell_type": "code",
   "execution_count": null,
   "id": "b3b812f3-e626-49b8-823c-7fcdb454dc8d",
   "metadata": {},
   "outputs": [],
   "source": [
    "# ## 6. Spark SQL을 사용한 원본 데이터 전체 확인\n",
    "\n",
    "# 1. 원본 CSV를 읽어온 Spark DataFrame(df)을 'raw_pet_supplies'라는 SQL 테이블로 등록합니다.\n",
    "# (이전에 정제한 final_df가 아닌, 원본 df를 사용합니다.)\n",
    "df.createOrReplaceTempView(\"raw_pet_supplies\")\n",
    "\n",
    "print(\"✅ 원본 데이터가 'raw_pet_supplies' SQL 테이블로 성공적으로 등록되었습니다.\")\n",
    "\n",
    "\n",
    "# 2. spark.sql() 함수 안에 'SELECT *' 쿼리를 작성하여 모든 데이터를 조회합니다.\n",
    "sql_query = \"\"\"\n",
    "    SELECT\n",
    "        *\n",
    "    FROM\n",
    "        raw_pet_supplies\n",
    "\"\"\"\n",
    "\n",
    "# 3. SQL 쿼리를 실행하고, 그 결과를 새로운 Spark DataFrame에 저장합니다.\n",
    "all_data_sql_df = spark.sql(sql_query)\n",
    "\n",
    "print(\"\\n--- SQL 쿼리로 조회한 전체 데이터 ---\")\n",
    "# Jupyter Notebook에서 모든 내용을 편하게 보기 위해 Pandas로 변환합니다.\n",
    "all_data_pd = all_data_sql_df.toPandas()\n",
    "\n",
    "# Jupyter Notebook에서 모든 행과 열이 보이도록 출력 옵션을 설정합니다.\n",
    "pd.set_option('display.max_rows', 100) # 너무 길어지지 않게 100개로 제한 (None으로 바꾸면 전체)\n",
    "pd.set_option('display.max_columns', None)\n",
    "pd.set_option('display.max_colwidth', None)\n",
    "\n",
    "# display()는 Jupyter Notebook에서 표를 예쁘게 보여주는 명령어입니다.\n",
    "display(all_data_pd)"
   ]
  },
  {
   "cell_type": "code",
   "execution_count": null,
   "id": "e7c839bc-986f-4efa-ab77-64f5907e6859",
   "metadata": {
    "scrolled": true
   },
   "outputs": [],
   "source": [
    "# ## 원본 CSV 데이터 전체 확인 (Pandas 사용)\n",
    "import pandas as pd\n",
    "\n",
    "# Pandas를 사용해 CSV 파일을 직접 읽어옵니다.\n",
    "# Spark와는 별개로, 탐색을 위해 Pandas로만 데이터를 불러오는 것입니다.\n",
    "file_path = 'data/aliexpress_pet_supplies.csv'\n",
    "\n",
    "try:\n",
    "    # Pandas DataFrame으로 csv_df 변수에 데이터를 저장합니다.\n",
    "    csv_df = pd.read_csv(file_path)\n",
    "\n",
    "    # Jupyter Notebook에서 모든 행과 열이 보이도록 출력 옵션을 설정합니다.\n",
    "    pd.set_option('display.max_rows', None)\n",
    "    pd.set_option('display.max_columns', None)\n",
    "    pd.set_option('display.max_colwidth', None)\n",
    "\n",
    "    print(f\"--- '{file_path}' 파일 전체 내용 ---\")\n",
    "    # display()는 Jupyter Notebook에서 표를 예쁘게 보여주는 명령어입니다.\n",
    "    display(csv_df)\n",
    "\n",
    "except FileNotFoundError:\n",
    "    print(f\"'{file_path}' 파일을 찾을 수 없습니다. 파일 경로를 확인해주세요.\")"
   ]
  },
  {
   "cell_type": "code",
   "execution_count": null,
   "id": "86ba986f",
   "metadata": {
    "scrolled": true
   },
   "outputs": [],
   "source": [
    "# ## 데이터 전체 요약 및 최대 판매량 확인\n",
    "from pyspark.sql.functions import col\n",
    "\n",
    "# 이전에 실행했던 3번 셀(데이터 정제)의 코드를 다시 한번 실행하여 final_df를 준비합니다.\n",
    "# 이미 실행했다면 이 부분은 건너뛰어도 되지만, 안전을 위해 포함합니다.\n",
    "def clean_trade_amount(amount_str):\n",
    "    if amount_str is None: return 0\n",
    "    try:\n",
    "        cleaned_str = amount_str.replace(',', '')\n",
    "        numbers = re.findall(r'\\d+', cleaned_str)\n",
    "        return int(numbers[0]) if numbers else 0\n",
    "    except (ValueError, TypeError): return 0\n",
    "\n",
    "clean_trade_amount_udf = udf(clean_trade_amount, IntegerType())\n",
    "cleaned_df = df.withColumn(\"sales\", clean_trade_amount_udf(col(\"tradeAmount\")))\\\n",
    "               .withColumn(\"averageStar\", col(\"averageStar\").cast('float'))\\\n",
    "               .withColumn(\"wishedCount\", col(\"wishedCount\").cast('int'))\n",
    "final_df = cleaned_df.select(\"title\", \"averageStar\", \"sales\", \"wishedCount\")\n",
    "\n",
    "\n",
    "# describe() 함수로 모든 숫자 컬럼의 통계 요약을 확인합니다.\n",
    "print(\"--- 숫자 데이터 전체 요약 ---\")\n",
    "# .show()를 실행하면 바로 아래에 결과 표가 나타납니다.\n",
    "final_df.describe().show()\n",
    "\n",
    "\n",
    "# 판매량(sales)이 가장 높은 순서대로 상위 10개 상품을 확인합니다.\n",
    "print(\"\\n--- 판매량 Top 10 상품 ---\")\n",
    "final_df.orderBy(col(\"sales\").desc()).show(10, truncate=False)"
   ]
  },
  {
   "cell_type": "code",
   "execution_count": null,
   "id": "3558babe",
   "metadata": {
    "lines_to_next_cell": 1
   },
   "outputs": [],
   "source": [
    "# ## 3. 데이터 정제 및 전처리\n",
    "# '1,000+ sold'와 같이 문자와 숫자가 섞인 판매량(tradeAmount) 컬럼을\n",
    "# 분석 가능한 순수 숫자로 바꿔주는 함수를 정의합니다.\n",
    "def clean_trade_amount(amount_str):\n",
    "    if amount_str is None: return 0\n",
    "    try:\n",
    "        cleaned_str = amount_str.replace(',', '')\n",
    "        numbers = re.findall(r'\\d+', cleaned_str)\n",
    "        return int(numbers[0]) if numbers else 0\n",
    "    except (ValueError, TypeError): return 0"
   ]
  },
  {
   "cell_type": "code",
   "execution_count": null,
   "id": "a7dd4585",
   "metadata": {},
   "outputs": [],
   "source": [
    "# 위에서 만든 함수를 Spark에서 사용할 수 있도록 UDF(사용자 정의 함수)로 등록합니다.\n",
    "clean_trade_amount_udf = udf(clean_trade_amount, IntegerType())"
   ]
  },
  {
   "cell_type": "code",
   "execution_count": null,
   "id": "56a71880",
   "metadata": {},
   "outputs": [],
   "source": [
    "# 필요한 컬럼들의 데이터 타입을 숫자로 변환하고, 'sales' 컬럼을 새로 만듭니다.\n",
    "cleaned_df = df.withColumn(\"sales\", clean_trade_amount_udf(col(\"tradeAmount\")))\\\n",
    "               .withColumn(\"averageStar\", col(\"averageStar\").cast('float'))\\\n",
    "               .withColumn(\"wishedCount\", col(\"wishedCount\").cast('int'))"
   ]
  },
  {
   "cell_type": "code",
   "execution_count": null,
   "id": "6dbc0aa1",
   "metadata": {},
   "outputs": [],
   "source": [
    "# 분석에 사용할 최종 컬럼들만 선택합니다.\n",
    "final_df = cleaned_df.select(\"title\", \"averageStar\", \"sales\", \"wishedCount\")"
   ]
  },
  {
   "cell_type": "code",
   "execution_count": null,
   "id": "06a74630",
   "metadata": {
    "lines_to_next_cell": 2
   },
   "outputs": [],
   "source": [
    "print(\"\\n데이터 정제 완료. 처리된 데이터 상위 5개:\")\n",
    "final_df.show(5, truncate=False)\n",
    "print(\"\\n처리된 데이터 스키마 (데이터 타입 확인):\")\n",
    "final_df.printSchema()"
   ]
  },
  {
   "cell_type": "code",
   "execution_count": null,
   "id": "17f47474",
   "metadata": {},
   "outputs": [],
   "source": [
    "# ## 4. Top 10 판매 상품 분석 (로그 스케일 적용)\n",
    "# 판매량(sales) 기준으로 상위 10개 상품을 추출하여 시각화하기 좋은 Pandas DataFrame으로 변환합니다.\n",
    "top_10_sold = final_df.orderBy(col(\"sales\").desc()).limit(10).toPandas()\n",
    "# 차트를 10위부터 1위 순으로 그리기 위해 데이터 순서를 뒤집습니다.\n",
    "top_10_sold = top_10_sold.iloc[::-1].reset_index(drop=True)\n",
    "# 순위 컬럼을 추가합니다.\n",
    "top_10_sold['rank'] = top_10_sold.index + 1"
   ]
  },
  {
   "cell_type": "code",
   "execution_count": null,
   "id": "56cee26f",
   "metadata": {},
   "outputs": [],
   "source": [
    "# 범례에 표시할 텍스트를 만듭니다. (상품명이 너무 길면 50자까지만 표시)\n",
    "legend_labels = [f\"#{row['rank']}: {row['title'][:50]}...\" for index, row in top_10_sold.iterrows()]"
   ]
  },
  {
   "cell_type": "code",
   "execution_count": null,
   "id": "2752465a",
   "metadata": {},
   "outputs": [],
   "source": [
    "# --- 핵심 수정: X축을 로그 스케일로 변경 ---\n",
    "# 이 한 줄이 판매량 차이를 명확하게 보여주는 마법입니다.\n",
    "plot.set_xscale(\"log\")\n",
    "# --- 핵심 수정 끝 ---"
   ]
  },
  {
   "cell_type": "code",
   "execution_count": null,
   "id": "4df59868",
   "metadata": {},
   "outputs": [],
   "source": [
    "# --- 막대 위에 실제 판매량 텍스트 추가 ---\n",
    "for index, row in top_10_sold.iterrows():\n",
    "    plot.text(row.sales,       # 텍스트를 표시할 x 좌표 (판매량)\n",
    "              index,           # 텍스트를 표시할 y 좌표 (인덱스)\n",
    "              f' {row.sales:,}개', # 표시할 텍스트 (세 자리 콤마 추가)\n",
    "              color='black',   # 글자색\n",
    "              ha=\"left\",       # 수평 정렬 (왼쪽)\n",
    "              va=\"center\")     # 수직 정렬 (중앙)\n",
    "# --- 텍스트 추가 끝 ---"
   ]
  },
  {
   "cell_type": "code",
   "execution_count": null,
   "id": "6d09509d",
   "metadata": {},
   "outputs": [],
   "source": [
    "plt.tight_layout(rect=[0, 0, 0.75, 1])\n",
    "plt.savefig(\"top_10_sold_log_scale.png\")"
   ]
  },
  {
   "cell_type": "code",
   "execution_count": null,
   "id": "63d6844e",
   "metadata": {
    "lines_to_next_cell": 2
   },
   "outputs": [],
   "source": [
    "print(\"\\n✅ 'top_10_sold_log_scale.png' 파일로 로그 스케일이 적용된 차트를 저장했습니다.\")\n",
    "# Jupyter Notebook에서는 이 셀을 실행하면 바로 아래에 차트가 보입니다.\n",
    "plt.show()"
   ]
  },
  {
   "cell_type": "code",
   "execution_count": null,
   "id": "e3f7e887",
   "metadata": {},
   "outputs": [],
   "source": [
    "# ## 5. 분석 종료\n",
    "# SparkSession을 종료하여 모든 리소스를 해제합니다.\n",
    "spark.stop()\n",
    "print(\"\\n분석이 완료되었습니다. Spark Session이 종료되었습니다.\")"
   ]
  },
  {
   "cell_type": "code",
   "execution_count": null,
   "id": "bc8a66b9-7d04-4630-bb2c-a557270f64f1",
   "metadata": {},
   "outputs": [],
   "source": []
  },
  {
   "cell_type": "code",
   "execution_count": null,
   "id": "7f530e57-0fc4-429a-b402-56017c17b79a",
   "metadata": {},
   "outputs": [],
   "source": []
  },
  {
   "cell_type": "code",
   "execution_count": null,
   "id": "75e38cb5-2c41-43dd-9aeb-347623ceeeb2",
   "metadata": {},
   "outputs": [],
   "source": []
  },
  {
   "cell_type": "code",
   "execution_count": null,
   "id": "13f05f2d-dcf7-4a55-8dc7-251055957d3e",
   "metadata": {},
   "outputs": [],
   "source": []
  }
 ],
 "metadata": {
  "jupytext": {
   "cell_metadata_filter": "-all",
   "main_language": "python",
   "notebook_metadata_filter": "-all"
  },
  "kernelspec": {
   "display_name": "Python 3 (ipykernel)",
   "language": "python",
   "name": "python3"
  },
  "language_info": {
   "codemirror_mode": {
    "name": "ipython",
    "version": 3
   },
   "file_extension": ".py",
   "mimetype": "text/x-python",
   "name": "python",
   "nbconvert_exporter": "python",
   "pygments_lexer": "ipython3",
   "version": "3.12.11"
  }
 },
 "nbformat": 4,
 "nbformat_minor": 5
}
