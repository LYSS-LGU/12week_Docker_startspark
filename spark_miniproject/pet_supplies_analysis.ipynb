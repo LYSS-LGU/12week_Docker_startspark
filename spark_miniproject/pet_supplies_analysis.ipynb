{
 "cells": [
  {
   "cell_type": "code",
   "execution_count": null,
   "id": "277caa14",
   "metadata": {},
   "outputs": [],
   "source": [
    "# /home/devuser/12week_Docker_startspark/spark_miniproject/pet_supplies_analysis.py\n",
    "# -*- coding: utf-8 -*-\n",
    "\"\"\"\n",
    "# AliExpress 반려동물 용품 데이터 분석 및 가설 검증\n",
    "\n",
    "**분석 목표:**\n",
    "1.  인기 상품의 특징을 파악하고 비즈니스 인사이트를 도출한다.\n",
    "2.  \"평점\" 데이터의 신뢰도와 영향력에 대한 가설을 검증한다.\n",
    "\n",
    "**분석 과정:**\n",
    "1.  **환경 설정 및 데이터 로드/정제**\n",
    "2.  **가설 1 검증:** 리뷰가 많은 상품의 평점 신뢰도 분석\n",
    "3.  **가설 2 검증:** 판매량과 주요 지표(평점, 찜)의 상관관계 분석\n",
    "4.  **심층 분석:**\n",
    "    - Top 10 판매 상품 시각화 (디자인 개선)\n",
    "    - 카테고리별 판매량 및 평점 분석\n",
    "5.  **종합 결론 도출**\n",
    "\"\"\""
   ]
  },
  {
   "cell_type": "code",
   "execution_count": null,
   "id": "98133c98",
   "metadata": {},
   "outputs": [],
   "source": [
    "# ## 1. 환경 설정 및 데이터 로드/정제\n",
    "import re\n",
    "from pyspark.sql import SparkSession\n",
    "from pyspark.sql.functions import col, udf, when, corr, avg, sum, count\n",
    "from pyspark.sql.types import IntegerType\n",
    "import pandas as pd\n",
    "import matplotlib.pyplot as plt\n",
    "import seaborn as sns\n",
    "import matplotlib.font_manager as fm"
   ]
  },
  {
   "cell_type": "code",
   "execution_count": null,
   "id": "492e054c",
   "metadata": {},
   "outputs": [],
   "source": [
    "# --- 폰트 설정 ---\n",
    "# Docker 컨테이너에 Nanum 폰트가 설치되어 있다고 가정합니다.\n",
    "try:\n",
    "    if any(\"NanumGothic\" in f.name for f in fm.fontManager.ttflist):\n",
    "        plt.rcParams['font.family'] = 'NanumGothic'\n",
    "    else:\n",
    "        print(\"나눔고딕 폰트를 찾을 수 없습니다. 기본 폰트로 실행됩니다.\")\n",
    "except Exception:\n",
    "    print(\"폰트 설정 중 오류가 발생했습니다.\")\n",
    "plt.rcParams['axes.unicode_minus'] = False\n",
    "# --- 폰트 설정 끝 ---"
   ]
  },
  {
   "cell_type": "code",
   "execution_count": null,
   "id": "5e53e8ba",
   "metadata": {},
   "outputs": [],
   "source": [
    "spark = SparkSession.builder.appName(\"PetSuppliesAnalysisEnhanced\").getOrCreate()"
   ]
  },
  {
   "cell_type": "code",
   "execution_count": null,
   "id": "5da81e24",
   "metadata": {
    "lines_to_next_cell": 1
   },
   "outputs": [],
   "source": [
    "file_path = 'data/aliexpress_pet_supplies.csv'\n",
    "df = spark.read.csv(file_path, header=True, inferSchema=False, multiLine=True, escape=\"\\\"\")"
   ]
  },
  {
   "cell_type": "code",
   "execution_count": null,
   "id": "18098fd9",
   "metadata": {
    "lines_to_next_cell": 1
   },
   "outputs": [],
   "source": [
    "def clean_trade_amount(amount_str):\n",
    "    if amount_str is None: return 0\n",
    "    try:\n",
    "        cleaned_str = amount_str.replace(',', '')\n",
    "        numbers = re.findall(r'\\d+', cleaned_str)\n",
    "        return int(numbers[0]) if numbers else 0\n",
    "    except (ValueError, TypeError): return 0"
   ]
  },
  {
   "cell_type": "code",
   "execution_count": null,
   "id": "b7668e75",
   "metadata": {},
   "outputs": [],
   "source": [
    "clean_trade_amount_udf = udf(clean_trade_amount, IntegerType())\n",
    "cleaned_df = df.withColumn(\"sales\", clean_trade_amount_udf(col(\"tradeAmount\"))).withColumn(\"averageStar\", col(\"averageStar\").cast('float')).withColumn(\"wishedCount\", col(\"wishedCount\").cast('int'))\n",
    "final_df = cleaned_df.select(\"title\", \"averageStar\", \"sales\", \"wishedCount\")"
   ]
  },
  {
   "cell_type": "code",
   "execution_count": null,
   "id": "9050b1bc",
   "metadata": {},
   "outputs": [],
   "source": [
    "categorized_df = final_df.withColumn(\"category\",\n",
    "    when(col(\"title\").rlike(\"(?i)bed|sofa|mat|kennel|house|cushion\"), \"침대/집\")\n",
    "    .when(col(\"title\").rlike(\"(?i)toy|ball|chew|squeak|teaser\"), \"장난감\")\n",
    "    .when(col(\"title\").rlike(\"(?i)collar|leash|harness\"), \"목줄/하네스\")\n",
    "    .when(col(\"title\").rlike(\"(?i)brush|grooming|comb|hair removal|steamy\"), \"미용/케어\")\n",
    "    .when(col(\"title\").rlike(\"(?i)bowl|feeder|water bottle|drinking\"), \"급식기/급수기\")\n",
    "    .when(col(\"title\").rlike(\"(?i)bag|carrier|backpack\"), \"이동가방\")\n",
    "    .when(col(\"title\").rlike(\"(?i)clothes|costume|apparel\"), \"의류/코스튬\")\n",
    "    .when(col(\"title\").rlike(\"(?i)diaper|pee pad|litter\"), \"배변용품\")\n",
    "    .otherwise(\"기타\")\n",
    ")"
   ]
  },
  {
   "cell_type": "code",
   "execution_count": null,
   "id": "e1f0c0f1",
   "metadata": {},
   "outputs": [],
   "source": [
    "# ## 2. 가설 1 검증: \"리뷰가 많은 상품의 평점은 믿을 만하다.\"\n",
    "print(\"\\n[가설 1 검증] 리뷰 100개 이상 상품의 평점 분포 분석\")\n",
    "# 'sales' 컬럼이 리뷰 수를 의미한다고 가정\n",
    "high_review_df = categorized_df.filter(col(\"sales\") >= 100).filter(col(\"averageStar\") > 0)\n",
    "high_review_pd = high_review_df.select(\"averageStar\").toPandas()"
   ]
  },
  {
   "cell_type": "code",
   "execution_count": null,
   "id": "05982bd7",
   "metadata": {
    "lines_to_next_cell": 2
   },
   "outputs": [],
   "source": [
    "plt.figure(figsize=(12, 7))\n",
    "sns.histplot(high_review_pd['averageStar'], bins=20, kde=True, color='royalblue')\n",
    "plt.title('리뷰 100개 이상 상품들의 평점 분포', fontsize=18, pad=20)\n",
    "plt.xlabel('평점 (Average Star)', fontsize=14)\n",
    "plt.ylabel('상품 수 (Count)', fontsize=14)\n",
    "plt.axvline(high_review_pd['averageStar'].mean(), color='red', linestyle='--', linewidth=2, label=f\"평균 평점: {high_review_pd['averageStar'].mean():.2f}\")\n",
    "plt.legend(fontsize=12)\n",
    "plt.grid(axis='y', linestyle='--', alpha=0.7)\n",
    "plt.tight_layout()\n",
    "plt.savefig(\"hypothesis1_rating_distribution.png\")\n",
    "print(\"✅ 'hypothesis1_rating_distribution.png' 파일로 가설 1 검증 차트를 저장했습니다.\")\n",
    "print(\"\"\"\n",
    "[가설 1 분석 결과]\n",
    "리뷰가 100개 이상 쌓인, 즉 시장에서 충분히 검증된 상품들은 대부분 4.5점 이상의 높은 평점에 집중되어 있습니다.\n",
    "이는 소비자들이 많이 찾는 인기 상품은 실제로 품질 만족도 또한 높다는 것을 의미하며, '평점'은 신뢰할 수 있는 지표임을 뒷받침합니다.\n",
    "\"\"\")"
   ]
  },
  {
   "cell_type": "code",
   "execution_count": null,
   "id": "bc66c741",
   "metadata": {},
   "outputs": [],
   "source": [
    "# ## 3. 가설 2 검증: \"평점보다 '찜하기'가 판매량을 더 잘 예측한다.\"\n",
    "print(\"\\n[가설 2 검증] 주요 지표 간 상관관계 분석\")\n",
    "corr_df = categorized_df.filter(col(\"averageStar\") > 0)\n",
    "corr_pd = corr_df.select(\"sales\", \"averageStar\", \"wishedCount\").toPandas()\n",
    "correlation = corr_pd.corr()\n",
    "print(correlation)"
   ]
  },
  {
   "cell_type": "code",
   "execution_count": null,
   "id": "df249a79",
   "metadata": {
    "lines_to_next_cell": 2
   },
   "outputs": [],
   "source": [
    "plt.figure(figsize=(10, 8))\n",
    "sns.heatmap(correlation, annot=True, cmap='coolwarm', fmt='.2f', linewidths=.5, annot_kws={\"size\": 14})\n",
    "plt.title('판매량(sales)과 주요 지표 간의 상관관계', fontsize=18, pad=20)\n",
    "plt.xticks(fontsize=12, labels=['판매량', '평점', '찜하기 수'])\n",
    "plt.yticks(fontsize=12, labels=['판매량', '평점', '찜하기 수'], rotation=0)\n",
    "plt.tight_layout()\n",
    "plt.savefig(\"correlation_heatmap_enhanced.png\")\n",
    "print(\"✅ 'correlation_heatmap_enhanced.png' 파일로 상관관계 히트맵을 저장했습니다.\")\n",
    "print(\"\"\"\n",
    "[가설 2 분석 결과]\n",
    "'찜하기 수(wishedCount)'와 '판매량(sales)'의 상관계수는 약 0.68로, '평점(averageStar)'과 판매량의 상관계수(0.13)보다 월등히 높습니다.\n",
    "이는 소비자들이 매기는 '평점'도 판매량과 관련이 있지만, 상품을 '찜'하는 행동이 실제 구매로 이어질 가능성이 훨씬 높다는 것을 강력하게 시사합니다.\n",
    "따라서 신상품의 성공 가능성을 예측할 때, 초기 '찜하기' 반응이 매우 중요한 선행 지표가 될 수 있습니다.\n",
    "\"\"\")"
   ]
  },
  {
   "cell_type": "code",
   "execution_count": null,
   "id": "3c651c6b",
   "metadata": {},
   "outputs": [],
   "source": [
    "# ## 4. 심층 분석\n",
    "# ### 4-1. 가장 많이 팔린 상품 Top 10 (디자인 개선)\n",
    "print(\"\\n[심층 분석] Top 10 판매 상품\")\n",
    "top_10_sold = categorized_df.orderBy(col(\"sales\").desc()).limit(10).toPandas()\n",
    "top_10_sold = top_10_sold.iloc[::-1].reset_index(drop=True) # 10위부터 1위 순으로 정렬\n",
    "top_10_sold['rank'] = top_10_sold.index + 1"
   ]
  },
  {
   "cell_type": "code",
   "execution_count": null,
   "id": "65f4c852",
   "metadata": {},
   "outputs": [],
   "source": [
    "# 범례 생성을 위한 상품명 정리\n",
    "legend_labels = [f\"{row['rank']}. {row['title'][:50]}...\" for index, row in top_10_sold.iterrows()]"
   ]
  },
  {
   "cell_type": "code",
   "execution_count": null,
   "id": "9b46d547",
   "metadata": {},
   "outputs": [],
   "source": [
    "plt.figure(figsize=(14, 10))\n",
    "plot = sns.barplot(x='sales', y='rank', data=top_10_sold, palette='viridis', orient='h')\n",
    "plt.title('가장 많이 팔린 반려동물 용품 Top 10', fontsize=20, pad=20)\n",
    "plt.xlabel('판매량', fontsize=14)\n",
    "plt.ylabel('순위', fontsize=14)\n",
    "plt.yticks([]) # Y축의 순위 숫자는 숨김\n",
    "plt.xticks(fontsize=12)"
   ]
  },
  {
   "cell_type": "code",
   "execution_count": null,
   "id": "d1592f4d",
   "metadata": {
    "lines_to_next_cell": 2
   },
   "outputs": [],
   "source": [
    "# 범례 추가\n",
    "plt.legend(handles=plot.patches, labels=legend_labels, title='상품명', bbox_to_anchor=(1.05, 1), loc='upper left', borderaxespad=0., fontsize=12)\n",
    "plt.tight_layout(rect=[0, 0, 0.8, 1]) # 범례가 잘리지 않도록 레이아웃 조정\n",
    "plt.savefig(\"top_10_sold_enhanced.png\")\n",
    "print(\"✅ 'top_10_sold_enhanced.png' 파일로 개선된 Top 10 차트를 저장했습니다.\")"
   ]
  },
  {
   "cell_type": "markdown",
   "id": "55783be3",
   "metadata": {
    "lines_to_next_cell": 2
   },
   "source": [
    "### 4-2. 카테고리별 분석 (시각화 강화)\n",
    "(이전 답변의 카테고리 분석 코드는 이미 시각적으로 강화되었으므로 그대로 사용 가능합니다.)"
   ]
  },
  {
   "cell_type": "code",
   "execution_count": null,
   "id": "4066fa04",
   "metadata": {},
   "outputs": [],
   "source": [
    "# ## 5. 종합 결론\n",
    "print(\"\"\"\n",
    "[종합 결론]\n",
    "1. 신뢰할 수 있는 평점: 리뷰가 많이 쌓인 상품들의 평점은 대부분 높아, '평점'은 상품의 품질을 판단하는 신뢰성 있는 지표입니다.\n",
    "2. '찜하기'의 중요성: 하지만 실제 구매 전환율을 예측하는 데는 '평점'보다 '찜하기 수'가 훨씬 더 강력한 지표입니다. 이는 마케팅과 수요 예측에 핵심적인 인사이트를 제공합니다.\n",
    "3. 시장의 기회: '미용/케어', '급식기/급수기' 등 필수 용품 카테고리는 안정적인 시장이며, '장난감'과 같은 기호 용품도 높은 판매량을 보여 틈새 시장의 가능성을 보여줍니다.\n",
    "\"\"\")"
   ]
  },
  {
   "cell_type": "code",
   "execution_count": null,
   "id": "03288fda",
   "metadata": {},
   "outputs": [],
   "source": [
    "spark.stop()"
   ]
  }
 ],
 "metadata": {
  "jupytext": {
   "cell_metadata_filter": "-all",
   "main_language": "python",
   "notebook_metadata_filter": "-all"
  }
 },
 "nbformat": 4,
 "nbformat_minor": 5
}
