// C:\githome\12week_Docker_startspark\08_01_Regression.ipynb
{
 "cells": [
  {
   "cell_type": "code",
   "execution_count": null,
   "id": "8749f38a-6a8d-4b69-9d97-9cc8e6b62fdb",
   "metadata": {},
   "outputs": [],
   "source": [
    "# 08_Regression_1.ipynb"
   ]
  },
  {
   "cell_type": "code",
   "execution_count": 1,
   "id": "c5f3dcdc-3f41-44da-ae62-894c2032fa01",
   "metadata": {},
   "outputs": [],
   "source": [
    "# Spark MLlib을 사용하기 위해 SparkSession을 생성합니다.\n",
    "from pyspark.sql import SparkSession\n",
    "\n",
    "# appName은 Spark UI에서 표시될 애플리케이션의 이름입니다.\n",
    "spark = SparkSession.builder.appName(\"taxi-fare-prediciton\").getOrCreate()"
   ]
  },
  {
   "cell_type": "code",
   "execution_count": 2,
   "id": "3ec1048e-117b-4e5b-ac1e-2b31b6eb0f9b",
   "metadata": {},
   "outputs": [
    {
     "data": {
      "text/plain": [
       "'/home/jovyan/work/learning_spark_data/trips/*.csv'"
      ]
     },
     "execution_count": 2,
     "metadata": {},
     "output_type": "execute_result"
    }
   ],
   "source": [
    "# 데이터가 저장된 경로를 설정합니다.\n",
    "import os\n",
    "cwd = os.getcwd()\n",
    "# 여러 CSV 파일을 한 번에 읽기 위해 와일드카드(*)를 사용합니다.\n",
    "trip_data_path = os.path.join(cwd, 'data', 'trips', '*.csv')\n",
    "trip_data_path"
   ]
  },
  {
   "cell_type": "code",
   "execution_count": 5,
   "id": "67883e13-9ea8-4ae1-9acf-43b333a02855",
   "metadata": {},
   "outputs": [
    {
     "data": {
      "text/plain": [
       "'file:////home/jovyan/work/learning_spark_data/trips/*.csv'"
      ]
     },
     "execution_count": 5,
     "metadata": {},
     "output_type": "execute_result"
    }
   ],
   "source": [
    "# Spark가 파일 시스템을 올바르게 인식하도록 경로 형식을 수정합니다.\n",
    "file_path = f\"file:///{trip_data_path.replace(os.sep,'/') }\"\n",
    "file_path"
   ]
  },
  {
   "cell_type": "code",
   "execution_count": 6,
   "id": "d99a0589-d0f0-444a-b77c-07f6e6081437",
   "metadata": {
    "scrolled": true
   },
   "outputs": [
    {
     "name": "stdout",
     "output_type": "stream",
     "text": [
      "root\n",
      " |-- VendorID: integer (nullable = true)\n",
      " |-- tpep_pickup_datetime: timestamp (nullable = true)\n",
      " |-- tpep_dropoff_datetime: timestamp (nullable = true)\n",
      " |-- passenger_count: integer (nullable = true)\n",
      " |-- trip_distance: double (nullable = true)\n",
      " |-- RatecodeID: integer (nullable = true)\n",
      " |-- store_and_fwd_flag: string (nullable = true)\n",
      " |-- PULocationID: integer (nullable = true)\n",
      " |-- DOLocationID: integer (nullable = true)\n",
      " |-- payment_type: integer (nullable = true)\n",
      " |-- fare_amount: double (nullable = true)\n",
      " |-- extra: double (nullable = true)\n",
      " |-- mta_tax: double (nullable = true)\n",
      " |-- tip_amount: double (nullable = true)\n",
      " |-- tolls_amount: double (nullable = true)\n",
      " |-- improvement_surcharge: double (nullable = true)\n",
      " |-- total_amount: double (nullable = true)\n",
      " |-- congestion_surcharge: double (nullable = true)\n",
      "\n"
     ]
    }
   ],
   "source": [
    "# CSV 파일을 읽어 Spark DataFrame을 생성합니다.\n",
    "# inferSchema=True: Spark가 데이터 타입을 자동으로 추론하도록 설정합니다.\n",
    "# header=True: CSV 파일의 첫 번째 줄을 헤더(컬럼명)로 사용합니다.\n",